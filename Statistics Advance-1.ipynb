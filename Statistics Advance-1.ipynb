{
 "cells": [
  {
   "cell_type": "markdown",
   "id": "b4efbbfd-39f0-4f89-ad56-0b1675b4db18",
   "metadata": {},
   "source": [
    "Q1. What is the Probability density function?"
   ]
  },
  {
   "cell_type": "markdown",
   "id": "22ceda66-a820-46b0-9336-5a8d3067f4e4",
   "metadata": {},
   "source": [
    "Ans - A probability density function (PDF) describes the likelihood of a continuous random variable taking on a particular value within a given range. Unlike discrete probability distributions where individual values have specific probabilities, continuous variables have zero probability at any single point. The PDF, however, allows us to calculate the probability of the variable falling within a specific interval. The area under the curve of the PDF between two points represents the probability of the variable lying within that range. It's important to note that the PDF itself doesn't give direct probabilities but rather provides a relative measure of likelihood for different values of the continuous random variable. "
   ]
  },
  {
   "cell_type": "markdown",
   "id": "d8acc04a-6152-4325-88e8-a2e3f7aeb922",
   "metadata": {},
   "source": [
    "Q2. What are the types of Probability distribution?"
   ]
  },
  {
   "cell_type": "markdown",
   "id": "43251610-b9d4-4371-80ab-51da4b539b30",
   "metadata": {},
   "source": [
    "1] Discrete Probability Distributions: These deal with discrete random variables, which can only take on a countable number of distinct values. Examples include:   \n",
    "\n",
    "a. Bernoulli Distribution: Models a single trial with two possible outcomes (success or failure).   \n",
    "\n",
    "b. Binomial Distribution: Models the number of successes in a fixed number of independent Bernoulli trials.   \n",
    "\n",
    "c. Poisson Distribution: Models the number of events occurring in a fixed interval of time or space, given a known average rate of occurrence.   \n",
    "\n",
    "2] Continuous Probability Distributions: These deal with continuous random variables, which can take on any value within a specified range. Examples include:   \n",
    "\n",
    "a. Normal Distribution (Gaussian Distribution): A bell-shaped curve that describes many natural phenomena. It's characterized by its mean (center) and standard deviation (spread).   \n",
    "\n",
    "b. Uniform Distribution: All values within a given range are equally likely.\n",
    "\n",
    "c. Exponential Distribution: Models the time between events in a Poisson process."
   ]
  },
  {
   "cell_type": "markdown",
   "id": "769bfdae-cd2a-4ff3-81a8-228e816ecb99",
   "metadata": {},
   "source": [
    "Q3. Write a Python function to calculate the probability density function of a normal distribution with\n",
    "given mean and standard deviation at a given point."
   ]
  },
  {
   "cell_type": "code",
   "execution_count": 5,
   "id": "55c1ef4e-eb91-4ebd-a5ed-66887ce8cd8a",
   "metadata": {},
   "outputs": [
    {
     "name": "stdout",
     "output_type": "stream",
     "text": [
      "PDF at x = 2.5 : 0.01752830049356854\n"
     ]
    }
   ],
   "source": [
    "from scipy.stats import norm\n",
    "\n",
    "def calculate_pdf(x, mean, std_dev):\n",
    "    \"\"\"\n",
    "    Calculates the probability density function (PDF) of a normal distribution\n",
    "    at a given point.\n",
    "\n",
    "    Args:\n",
    "        x (float): The point at which to calculate the PDF.\n",
    "        mean (float): The mean of the normal distribution.\n",
    "        std_dev (float): The standard deviation of the normal distribution.\n",
    "\n",
    "    Returns:\n",
    "        float: The PDF value at the given point.\n",
    "    \"\"\"\n",
    "    pdf = norm.pdf(x, loc=mean, scale=std_dev)\n",
    "    return pdf\n",
    "x = 2.5\n",
    "mean = 0\n",
    "std_dev = 1\n",
    "\n",
    "pdf_value = calculate_pdf(x, mean, std_dev)\n",
    "print(\"PDF at x =\", x, \":\", pdf_value)"
   ]
  },
  {
   "cell_type": "markdown",
   "id": "1d20f141-78d4-4dcf-b768-94a7cf9f4e4e",
   "metadata": {},
   "source": [
    "Q4. What are the properties of Binomial distribution? Give two examples of events where binomial\n",
    "distribution can be applied."
   ]
  },
  {
   "cell_type": "markdown",
   "id": "c07ab5bf-0601-4812-b6fe-d68cd3f1c68a",
   "metadata": {},
   "source": [
    "Ans - 1] Each trial has two possible outcomes: success or failure, true or false, yes or no.\n",
    "\n",
    "2] The process consists of a fixed number n of independent trials.\n",
    "\n",
    "3] The probability of success remains constant across all trials.\n",
    "\n",
    "4] The focus is on counting the number of successes out of the n trials.\n",
    "\n",
    "5] Each trial is independent, meaning the outcome of one trial does not influence the outcome of any other trial.\n",
    "\n",
    "Example 1: If a coin is tossed 5 times, find the probability of:\n",
    "\n",
    "(a) Exactly 2 heads\n",
    "\n",
    "(b) At least 4 heads.\n",
    "\n",
    "Solution:\n",
    "\n",
    "(a) The repeated tossing of the coin is an example of a Bernoulli trial. According to the problem:\n",
    "\n",
    "Number of trials: n=5\n",
    "\n",
    "Probability of head: p= 1/2 and hence the probability of tail, q =1/2\n",
    "\n",
    "For exactly two heads:\n",
    "\n",
    "x=2\n",
    "\n",
    "P(x=2) = 5C2 p2 q5-2 = 5! / 2! 3! × (½)2× (½)3\n",
    "\n",
    "P(x=2) = 5/16\n",
    "\n",
    "(b) For at least four heads,\n",
    "\n",
    "x ≥ 4, P(x ≥ 4) = P(x = 4) + P(x=5)\n",
    "\n",
    "Hence,\n",
    "\n",
    "P(x = 4) = 5C4 p4 q5-4 = 5!/4! 1! × (½)4× (½)1 = 5/32\n",
    "\n",
    "P(x = 5) = 5C5 p5 q5-5 = (½)5 = 1/32\n",
    "\n",
    "Therefore,\n",
    "\n",
    "P(x ≥ 4) = 5/32 + 1/32 = 6/32 = 3/16"
   ]
  },
  {
   "cell_type": "markdown",
   "id": "2e223330-9adf-442a-94e7-c445ccfdff8c",
   "metadata": {},
   "source": [
    "Q5. Generate a random sample of size 1000 from a binomial distribution with probability of success 0.4\n",
    "and plot a histogram of the results using matplotlib."
   ]
  },
  {
   "cell_type": "code",
   "execution_count": 6,
   "id": "6d7064be-f328-4a23-9461-8b640167f812",
   "metadata": {},
   "outputs": [
    {
     "data": {
      "image/png": "[encoded data removed]",
      "text/plain": [
       "<Figure size 640x480 with 1 Axes>"
      ]
     },
     "metadata": {},
     "output_type": "display_data"
    }
   ],
   "source": [
    "import numpy as np\n",
    "import matplotlib.pyplot as plt\n",
    "\n",
    "n = 1  \n",
    "p = 0.4 \n",
    "sample_size = 1000  \n",
    "\n",
    "sample = np.random.binomial(n, p, size=sample_size)\n",
    "\n",
    "plt.hist(sample, bins='auto', color='blue', alpha=0.7)\n",
    "plt.xlabel('Number of Successes')\n",
    "plt.ylabel('Frequency')\n",
    "plt.title('Histogram of Binomial Distribution')\n",
    "plt.grid(True)\n",
    "plt.show()"
   ]
  },
  {
   "cell_type": "markdown",
   "id": "9162d279-1cb0-420a-87c5-834cc0a9668e",
   "metadata": {},
   "source": [
    "Q6. Write a Python function to calculate the cumulative distribution function of a Poisson distribution\n",
    "with given mean at a given point."
   ]
  },
  {
   "cell_type": "code",
   "execution_count": 7,
   "id": "381c8303-dd4a-4704-8273-7f76724d6523",
   "metadata": {},
   "outputs": [
    {
     "name": "stdout",
     "output_type": "stream",
     "text": [
      "CDF at x = 3 : 0.7575761331330662\n"
     ]
    }
   ],
   "source": [
    "from scipy.stats import poisson\n",
    "\n",
    "def calculate_cdf(x, mean):\n",
    "    \"\"\"\n",
    "    Calculates the cumulative distribution function (CDF) of a Poisson distribution\n",
    "    at a given point.\n",
    "\n",
    "    Args:\n",
    "        x (int): The point at which to calculate the CDF.\n",
    "        mean (float): The mean of the Poisson distribution.\n",
    "\n",
    "    Returns:\n",
    "        float: The CDF value at the given point.\n",
    "    \"\"\"\n",
    "    cdf = poisson.cdf(x, mu=mean)\n",
    "    return cdf\n",
    "x = 3\n",
    "mean = 2.5\n",
    "\n",
    "cdf_value = calculate_cdf(x, mean)\n",
    "print(\"CDF at x =\", x, \":\", cdf_value)"
   ]
  },
  {
   "cell_type": "markdown",
   "id": "628e1a54-c94d-4a9b-80bf-1710ad174a96",
   "metadata": {},
   "source": [
    "Q7. How Binomial distribution different from Poisson distribution?"
   ]
  },
  {
   "cell_type": "markdown",
   "id": "85019b24-f6e6-4289-b247-69ec151297ec",
   "metadata": {},
   "source": [
    "Ans - The binomial distribution characterizes the distribution of binary outcomes (success or failure) within a finite sample. It provides the probability of observing a specific number of successes (r) in a given number of trials (n). In contrast, the Poisson distribution models the distribution of binary data from an infinite sample or a continuous interval. It yields the probability of encountering a particular number of events (r) within a specified population or time frame."
   ]
  },
  {
   "cell_type": "markdown",
   "id": "f6d43142-7549-4f85-b24a-90a055bc8fe9",
   "metadata": {},
   "source": [
    "Q8. Generate a random sample of size 1000 from a Poisson distribution with mean 5 and calculate the\n",
    "sample mean and variance."
   ]
  },
  {
   "cell_type": "code",
   "execution_count": 8,
   "id": "d62bc597-842d-4a2a-a1cb-baa7c0948e3c",
   "metadata": {},
   "outputs": [
    {
     "name": "stdout",
     "output_type": "stream",
     "text": [
      "Sample Mean: 4.855\n",
      "Sample Variance: 4.459975\n"
     ]
    }
   ],
   "source": [
    "import numpy as np\n",
    "\n",
    "\n",
    "mean = 5  \n",
    "sample_size = 1000  \n",
    "\n",
    "sample = np.random.poisson(mean, size=sample_size)\n",
    "\n",
    "sample_mean = np.mean(sample)\n",
    "sample_variance = np.var(sample)\n",
    "\n",
    "print(\"Sample Mean:\", sample_mean)\n",
    "print(\"Sample Variance:\", sample_variance)"
   ]
  },
  {
   "cell_type": "markdown",
   "id": "c47a595c-2380-4a85-b03c-5a922b6bef80",
   "metadata": {},
   "source": [
    "Q9. How mean and variance are related in Binomial distribution and Poisson distribution?"
   ]
  },
  {
   "cell_type": "markdown",
   "id": "615e6725-0e48-47b9-9ee2-ddb38eecd9ae",
   "metadata": {},
   "source": [
    "Ans - A unique and defining characteristic of the Poisson distribution is the equality between its mean and variance. Both of these statistical measures are numerically equivalent to the average number of successes or events that are expected to transpire within a specified interval of time or space. This intrinsic property of the Poisson distribution significantly simplifies calculations and interpretations in various scenarios where it is applicable. It implies that the spread or dispersion of the observed number of events around the mean is directly proportional to the mean itself. This inherent link between the central tendency and the variability of the distribution is a key feature that distinguishes the Poisson distribution from other probability models."
   ]
  },
  {
   "cell_type": "code",
   "execution_count": null,
   "id": "6d997f31-f8a4-43ff-9ebd-308ccbc2c815",
   "metadata": {},
   "outputs": [],
   "source": []
  },
  {
   "cell_type": "code",
   "execution_count": null,
   "id": "e6c93198-cfdc-4717-96d7-94d140821ecd",
   "metadata": {},
   "outputs": [],
   "source": []
  }
 ],
 "metadata": {
  "kernelspec": {
   "display_name": "Python 3 (ipykernel)",
   "language": "python",
   "name": "python3"
  },
  "language_info": {
   "codemirror_mode": {
    "name": "ipython",
    "version": 3
   },
   "file_extension": ".py",
   "mimetype": "text/x-python",
   "name": "python",
   "nbconvert_exporter": "python",
   "pygments_lexer": "ipython3",
   "version": "3.10.8"
  }
 },
 "nbformat": 4,
 "nbformat_minor": 5
}
